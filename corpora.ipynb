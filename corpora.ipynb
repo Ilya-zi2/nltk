{
 "cells": [
  {
   "cell_type": "markdown",
   "metadata": {},
   "source": [
    "# NLTK Corpora and Treebanks\n",
    "\n",
    "In the field of Natural Langugage Processing, a sample of real world text is referred to as a *Corpus* (plural *Corpora*).\n",
    "\n",
    "Possibly the most famous and widely used corpus is the **Brown Corpus** (https://en.wikipedia.org/wiki/Brown_Corpus) which was the first million-word electronic corpus of English, created in 1961 at Brown University.\n",
    "\n",
    "A *Treebank* is an parsed and annotated Corpus that records the syntactic or semantic sentence structure of the content (i.e. typically each sentence and probably each word in the corpus).   The first large-scale treebank was The **Penn Treebank**, created in 1992 at the University of Pennsylvania. \n",
    "\n",
    "There are many corpora and treebanks distributed with the NLTK toolkit, listed in the NLTK Book here: http://www.nltk.org/nltk_data/"
   ]
  },
  {
   "cell_type": "markdown",
   "metadata": {},
   "source": [
    "## Downloading and Exploring a Corpus ##\n",
    "\n",
    "The Corpus are not installed by default - if you want to use one of the standard NLTK corpora, use the NLTK downloader as shown in the example below.\n",
    "\n",
    "**Example** - Download the Reuters Corpus:\n"
   ]
  },
  {
   "cell_type": "code",
   "execution_count": 1,
   "metadata": {},
   "outputs": [
    {
     "name": "stdout",
     "output_type": "stream",
     "text": [
      "[nltk_data] Downloading package reuters to\n",
      "[nltk_data]     C:\\Users\\ebullen\\AppData\\Roaming\\nltk_data...\n",
      "[nltk_data]   Package reuters is already up-to-date!\n"
     ]
    },
    {
     "data": {
      "text/plain": [
       "True"
      ]
     },
     "execution_count": 1,
     "metadata": {},
     "output_type": "execute_result"
    }
   ],
   "source": [
    "import nltk\n",
    "nltk.download(\"reuters\")"
   ]
  },
  {
   "cell_type": "markdown",
   "metadata": {
    "collapsed": true
   },
   "source": [
    "Various methods can be applied against a loaded corpus to perform actions such as extract the words from corpus, identify the files that make up a corpus, list category definitions in a corpus and extract text filtered by category.\n",
    "\n",
    "A list of common methods is provided in Chapter 2 of the [NLTK Book](http://www.nltk.org/book/ch02.html) as follows:  \n",
    "<table align=\"left\">\n",
    "<tr><td><b>Example</b></td>   <td align=\"left\"><b>Description</b></td></tr>\n",
    "<tr><td>fileids()</td>   <td align=\"left\">the files of the corpus</td></tr>\n",
    "<tr><td>fileids([categories])</td>   <td align=\"left\">the files of the corpus corresponding to these categories</td></tr>\n",
    "<tr><td>categories()</td>   <td align=\"left\">the categories of the corpus</td></tr>\n",
    "<tr><td>categories([fileids])</td>   <td align=\"left\">the categories of the corpus corresponding to these files</td></tr>\n",
    "<tr><td>raw()</td>   <td align=\"left\">the raw content of the corpus</td></tr>\n",
    "<tr><td>raw(fileids=[f1,f2,f3])</td>   <td align=\"left\">the raw content of the specified files</td></tr>\n",
    "<tr><td>raw(categories=[c1,c2])</td>   <td align=\"left\">the raw content of the specified categories</td></tr>\n",
    "<tr><td>words()</td>   <td align=\"left\">the words of the whole corpus</td></tr>\n",
    "<tr><td>words(fileids=[f1,f2,f3])</td>   <td align=\"left\">the words of the specified fileids</td></tr>\n",
    "<tr><td>words(categories=[c1,c2])</td>   <td align=\"left\">the words of the specified categories</td></tr>\n",
    "<tr><td>sents()</td>   <td align=\"left\">the sentences of the whole corpus</td></tr>\n",
    "<tr><td>sents(fileids=[f1,f2,f3])</td>   <td align=\"left\">the sentences of the specified fileids</td></tr>\n",
    "<tr><td>sents(categories=[c1,c2])</td>   <td align=\"left\">the sentences of the specified categories</td></tr>\n",
    "<tr><td>abspath(fileid)</td>   <td align=\"left\">the location of the given file on disk</td></tr>\n",
    "<tr><td>encoding(fileid)</td>   <td align=\"left\">the encoding of the file (if known)</td></tr>\n",
    "<tr><td>open(fileid)</td>   <td align=\"left\">open a stream for reading the given corpus file</td></tr>\n",
    "<tr><td>root</td>   <td align=\"left\">if the path to the root of locally installed corpus</td></tr>\n",
    "<tr><td>readme()</td>   <td align=\"left\">the contents of the README file of the corpus</td></tr>\n",
    "</table>"
   ]
  },
  {
   "cell_type": "markdown",
   "metadata": {},
   "source": [
    "#### Examples with the Reuters Corpus ####\n",
    "\n",
    "The original Reuters Corpus was compiled from newswire articles from 1987.  In 1990 the documents were made available by Reuters and CGI *for research purposes only*.  One of the central people involved in developing this corpus was David Lewis, and he has published more information and background here: http://www.daviddlewis.com/resources/testcollections/reuters21578/readme.txt\n",
    "\n",
    "The original corpus contained 22,173 documents and was known as the \"Reuters-22173\" corpus.  This was then pared down by removing duplicated and became known as the Reuters-21578 collection.  \n",
    "\n",
    "The Reuters Corpus is released with the following requirement: *\"If you publish results based on this data set, please acknowledge its use, refer to the data set by the name 'Reuters-21578, Distribution 1.0', and inform your readers of the current location of the data set.\"*"
   ]
  },
  {
   "cell_type": "markdown",
   "metadata": {},
   "source": [
    "### Categories, Files and Words ###\n",
    "\n",
    "Load the corpus and list any categories defined in it:"
   ]
  },
  {
   "cell_type": "code",
   "execution_count": 2,
   "metadata": {},
   "outputs": [
    {
     "name": "stdout",
     "output_type": "stream",
     "text": [
      "Number of Categories: 90\n",
      "['alum', 'barley', 'bop', 'carcass', 'castor-oil', 'cocoa', 'coconut', 'coconut-oil', 'coffee'] ['sun-oil', 'sunseed', 'tea', 'tin', 'trade', 'veg-oil', 'wheat', 'wpi', 'yen', 'zinc']\n"
     ]
    }
   ],
   "source": [
    "from nltk.corpus import reuters\n",
    "categories = reuters.categories()\n",
    "print(\"Number of Categories:\",len(categories))\n",
    "print(categories[1:10],categories[-10:])"
   ]
  },
  {
   "cell_type": "markdown",
   "metadata": {},
   "source": [
    "List the files that contain the corpus contents:"
   ]
  },
  {
   "cell_type": "code",
   "execution_count": 3,
   "metadata": {},
   "outputs": [
    {
     "name": "stdout",
     "output_type": "stream",
     "text": [
      "Number of files: 10788\n",
      "['test/14828', 'test/14829', 'test/14832', 'test/14833', 'test/14839', 'test/14840', 'test/14841', 'test/14842', 'test/14843'] ['training/9982', 'training/9984', 'training/9985', 'training/9988', 'training/9989', 'training/999', 'training/9992', 'training/9993', 'training/9994', 'training/9995']\n"
     ]
    }
   ],
   "source": [
    "#list out files - split into \"test\" and \"training\" data\n",
    "files = reuters.fileids()\n",
    "print(\"Number of files:\",len(files))\n",
    "print(files[1:10], files[-10:])"
   ]
  },
  {
   "cell_type": "markdown",
   "metadata": {},
   "source": [
    "In the Reuters corpus the files are separated into two \"training\" and \"test\" sets to facilitate supervised learning excercises.\n",
    "\n",
    "Individual words can be extracted with the `words()` method:"
   ]
  },
  {
   "cell_type": "code",
   "execution_count": 4,
   "metadata": {},
   "outputs": [
    {
     "name": "stdout",
     "output_type": "stream",
     "text": [
      "number of words 1720901\n",
      "first 10 words: ['EXPORTERS', 'FEAR', 'DAMAGE', 'FROM', 'U', '.', 'S', '.-', 'JAPAN']\n"
     ]
    }
   ],
   "source": [
    "words = reuters.words()\n",
    "print(\"number of words\", len(words) )\n",
    "print(\"first 10 words:\", words[1:10])"
   ]
  },
  {
   "cell_type": "markdown",
   "metadata": {},
   "source": [
    "### Filter Text by Category ###"
   ]
  },
  {
   "cell_type": "code",
   "execution_count": 5,
   "metadata": {},
   "outputs": [
    {
     "data": {
      "text/plain": [
       "['barley', 'corn', 'grain', 'wheat']"
      ]
     },
     "execution_count": 5,
     "metadata": {},
     "output_type": "execute_result"
    }
   ],
   "source": [
    "#Look at categories in a single file\n",
    "reuters.categories('training/9865')"
   ]
  },
  {
   "cell_type": "code",
   "execution_count": 6,
   "metadata": {},
   "outputs": [
    {
     "data": {
      "text/plain": [
       "51"
      ]
     },
     "execution_count": 6,
     "metadata": {},
     "output_type": "execute_result"
    }
   ],
   "source": [
    "#Find the number of files that include catagory \"barley\"\n",
    "len(reuters.fileids('barley'))"
   ]
  },
  {
   "cell_type": "markdown",
   "metadata": {},
   "source": [
    "### Remove Stopwords and Punctuation ###"
   ]
  },
  {
   "cell_type": "code",
   "execution_count": 8,
   "metadata": {},
   "outputs": [
    {
     "name": "stdout",
     "output_type": "stream",
     "text": [
      "['i', 'me', 'my', 'myself', 'we', 'our', 'ours', 'ourselves', 'you', 'your', 'yours', 'yourself', 'yourselves', 'he', 'him', 'his', 'himself', 'she', 'her', 'hers', 'herself', 'it', 'its', 'itself', 'they', 'them', 'their', 'theirs', 'themselves', 'what', 'which', 'who', 'whom', 'this', 'that', 'these', 'those', 'am', 'is', 'are', 'was', 'were', 'be', 'been', 'being', 'have', 'has', 'had', 'having', 'do', 'does', 'did', 'doing', 'a', 'an', 'the', 'and', 'but', 'if', 'or', 'because', 'as', 'until', 'while', 'of', 'at', 'by', 'for', 'with', 'about', 'against', 'between', 'into', 'through', 'during', 'before', 'after', 'above', 'below', 'to', 'from', 'up', 'down', 'in', 'out', 'on', 'off', 'over', 'under', 'again', 'further', 'then', 'once', 'here', 'there', 'when', 'where', 'why', 'how', 'all', 'any', 'both', 'each', 'few', 'more', 'most', 'other', 'some', 'such', 'no', 'nor', 'not', 'only', 'own', 'same', 'so', 'than', 'too', 'very', 's', 't', 'can', 'will', 'just', 'don', 'should', 'now', 'd', 'll', 'm', 'o', 're', 've', 'y', 'ain', 'aren', 'couldn', 'didn', 'doesn', 'hadn', 'hasn', 'haven', 'isn', 'ma', 'mightn', 'mustn', 'needn', 'shan', 'shouldn', 'wasn', 'weren', 'won', 'wouldn']\n"
     ]
    }
   ],
   "source": [
    "from nltk.corpus import stopwords\n",
    "import string\n",
    "print(stopwords.words('english'))"
   ]
  },
  {
   "cell_type": "code",
   "execution_count": 7,
   "metadata": {
    "collapsed": true
   },
   "outputs": [],
   "source": [
    "# this takes a minute or two to run...\n",
    "tradeWords = reuters.words(reuters.fileids('trade'))\n",
    "tradeWords = [w for w in tradeWords if w.lower() not in stopwords.words('english') ]"
   ]
  },
  {
   "cell_type": "code",
   "execution_count": 9,
   "metadata": {},
   "outputs": [
    {
     "data": {
      "text/plain": [
       "78019"
      ]
     },
     "execution_count": 9,
     "metadata": {},
     "output_type": "execute_result"
    }
   ],
   "source": [
    "tradeWords = [w for w in tradeWords if w not in string.punctuation]\n",
    "punctCombo = [c+\"\\\"\" for c in string.punctuation ]+ [\"\\\"\"+c for c in string.punctuation ]\n",
    "tradeWords = [w for w in tradeWords if w not in punctCombo]\n",
    "len(tradeWords)"
   ]
  },
  {
   "cell_type": "markdown",
   "metadata": {},
   "source": [
    "### Word Frequency Distribution ###"
   ]
  },
  {
   "cell_type": "code",
   "execution_count": 10,
   "metadata": {},
   "outputs": [
    {
     "data": {
      "image/png": "[encoded data removed]",
      "text/plain": [
       "<matplotlib.figure.Figure at 0xa38fdd0>"
      ]
     },
     "metadata": {},
     "output_type": "display_data"
    }
   ],
   "source": [
    "fdist = nltk.FreqDist(tradeWords)\n",
    "fdist.plot(20, cumulative=False)"
   ]
  },
  {
   "cell_type": "code",
   "execution_count": 11,
   "metadata": {},
   "outputs": [
    {
     "name": "stdout",
     "output_type": "stream",
     "text": [
      "said 2177\n",
      "trade 1518\n",
      "U 1452\n",
      "billion 1063\n",
      "Japan 720\n",
      "dlrs 628\n",
      "year 610\n",
      "would 592\n",
      "pct 520\n",
      "mln 475\n"
     ]
    }
   ],
   "source": [
    "for word, frequency in fdist.most_common(10):\n",
    "    print(word, frequency)"
   ]
  },
  {
   "cell_type": "markdown",
   "metadata": {},
   "source": [
    "### Bi-Grams###\n"
   ]
  },
  {
   "cell_type": "code",
   "execution_count": 107,
   "metadata": {},
   "outputs": [
    {
     "data": {
      "image/png": "[encoded data removed]",
      "text/plain": [
       "<matplotlib.figure.Figure at 0x97eb7f0>"
      ]
     },
     "metadata": {},
     "output_type": "display_data"
    }
   ],
   "source": [
    "biTradeWords = nltk.bigrams(tradeWords)\n",
    "biFdist = nltk.FreqDist(biTradeWords)\n",
    "biFdist.plot(20, cumulative=False)"
   ]
  },
  {
   "cell_type": "markdown",
   "metadata": {},
   "source": [
    "## Exploring the Penn Treebank ##\n",
    "The NLTK data package includes a 10% sample of the Penn Treebank.  This can be used for exploring the concepts of Part-of-Speech tagging and the concept of sentence word classifications with grouping and heirarchies."
   ]
  },
  {
   "cell_type": "code",
   "execution_count": 12,
   "metadata": {
    "collapsed": true
   },
   "outputs": [],
   "source": [
    "from nltk.corpus import treebank"
   ]
  },
  {
   "cell_type": "code",
   "execution_count": 13,
   "metadata": {},
   "outputs": [
    {
     "name": "stdout",
     "output_type": "stream",
     "text": [
      "<class 'nltk.corpus.reader.util.ConcatenatedCorpusView'>\n",
      "Word Count 100676\n",
      "Tagged words sample:  [('Vinken', 'NNP'), (',', ','), ('61', 'CD'), ('years', 'NNS'), ('old', 'JJ'), (',', ','), ('will', 'MD'), ('join', 'VB'), ('the', 'DT')]\n"
     ]
    }
   ],
   "source": [
    "words = treebank.words()\n",
    "tagged = treebank.tagged_words()\n",
    "print(type(tagged))\n",
    "print(\"Word Count\", len(words))\n",
    "print(\"Tagged words sample: \",tagged[1:10])"
   ]
  },
  {
   "cell_type": "code",
   "execution_count": 15,
   "metadata": {
    "collapsed": true
   },
   "outputs": [],
   "source": [
    "parsed = treebank.parsed_sents()[1]"
   ]
  },
  {
   "cell_type": "code",
   "execution_count": 17,
   "metadata": {},
   "outputs": [
    {
     "name": "stdout",
     "output_type": "stream",
     "text": [
      "(S\n",
      "  (NP-SBJ (NNP Mr.) (NNP Vinken))\n",
      "  (VP\n",
      "    (VBZ is)\n",
      "    (NP-PRD\n",
      "      (NP (NN chairman))\n",
      "      (PP\n",
      "        (IN of)\n",
      "        (NP\n",
      "          (NP (NNP Elsevier) (NNP N.V.))\n",
      "          (, ,)\n",
      "          (NP (DT the) (NNP Dutch) (VBG publishing) (NN group))))))\n",
      "  (. .))\n"
     ]
    }
   ],
   "source": [
    "print(parsed)"
   ]
  },
  {
   "cell_type": "code",
   "execution_count": 18,
   "metadata": {},
   "outputs": [
    {
     "data": {
      "text/plain": [
       "nltk.tree.Tree"
      ]
     },
     "execution_count": 18,
     "metadata": {},
     "output_type": "execute_result"
    }
   ],
   "source": [
    "type(parsed)"
   ]
  },
  {
   "cell_type": "code",
   "execution_count": 96,
   "metadata": {},
   "outputs": [
    {
     "data": {
      "image/png": "[encoded data removed]",
      "text/plain": [
       "Tree('S', [Tree('NP-SBJ', [Tree('NNP', ['Mr.']), Tree('NNP', ['Vinken'])]), Tree('VP', [Tree('VBZ', ['is']), Tree('NP-PRD', [Tree('NP', [Tree('NN', ['chairman'])]), Tree('PP', [Tree('IN', ['of']), Tree('NP', [Tree('NP', [Tree('NNP', ['Elsevier']), Tree('NNP', ['N.V.'])]), Tree(',', [',']), Tree('NP', [Tree('DT', ['the']), Tree('NNP', ['Dutch']), Tree('VBG', ['publishing']), Tree('NN', ['group'])])])])])]), Tree('.', ['.'])])"
      ]
     },
     "metadata": {},
     "output_type": "display_data"
    }
   ],
   "source": [
    "import IPython\n",
    "IPython.core.display.display(parsed)"
   ]
  },
  {
   "cell_type": "markdown",
   "metadata": {},
   "source": [
    "## Further Investigation ##\n",
    "\n",
    "+ Import the Brown Corpus  \n",
    "+ List the categories  and count the number of words by category\n",
    "+ Extract the first sentence from the corpus\n",
    "+ Compare the average sentence length between Religion, News and Humor categories\n",
    "+ Identify the top-20 words and bigrams in sentences categoried as \"religion\" and \"news\""
   ]
  },
  {
   "cell_type": "code",
   "execution_count": null,
   "metadata": {
    "collapsed": true
   },
   "outputs": [],
   "source": []
  }
 ],
 "metadata": {
  "kernelspec": {
   "display_name": "Python 3",
   "language": "python",
   "name": "python3"
  },
  "language_info": {
   "codemirror_mode": {
    "name": "ipython",
    "version": 3
   },
   "file_extension": ".py",
   "mimetype": "text/x-python",
   "name": "python",
   "nbconvert_exporter": "python",
   "pygments_lexer": "ipython3",
   "version": "3.5.0"
  }
 },
 "nbformat": 4,
 "nbformat_minor": 2
}
